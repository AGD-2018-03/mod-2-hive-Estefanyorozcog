{
 "cells": [
  {
   "cell_type": "markdown",
   "metadata": {},
   "source": [
    "Consultas -- Básico\n",
    "==="
   ]
  },
  {
   "cell_type": "code",
   "execution_count": 1,
   "metadata": {},
   "outputs": [
    {
     "name": "stdout",
     "output_type": "stream",
     "text": [
      "SLF4J: Class path contains multiple SLF4J bindings.\n",
      "SLF4J: Found binding in [jar:file:/Volumes/Data/big-data/hive-3.1.0/lib/log4j-slf4j-impl-2.10.0.jar!/org/slf4j/impl/StaticLoggerBinder.class]\n",
      "SLF4J: Found binding in [jar:file:/Volumes/Data/big-data/hadoop-3.1.1/share/hadoop/common/lib/slf4j-log4j12-1.7.25.jar!/org/slf4j/impl/StaticLoggerBinder.class]\n",
      "SLF4J: See http://www.slf4j.org/codes.html#multiple_bindings for an explanation.\n",
      "SLF4J: Actual binding is of type [org.apache.logging.slf4j.Log4jLoggerFactory]\n",
      "Hive Session ID = af18c2a0-980a-4bc4-b952-d222c21a4f4b\n",
      "\n",
      "Logging initialized using configuration in jar:file:/Volumes/Data/big-data/hive-3.1.0/lib/hive-common-3.1.0.jar!/hive-log4j2.properties Async: true\n",
      "Hive Session ID = 96ab95ac-74fa-475f-ad3c-4bef14495d47\n",
      "Hive-on-MR is deprecated in Hive 2 and may not be available in the future versions. Consider using a different execution engine (i.e. spark, tez) or using Hive 1.X releases.\n",
      "\n"
     ]
    }
   ],
   "source": [
    "%run bd.py\n",
    "%hive_init"
   ]
  },
  {
   "cell_type": "markdown",
   "metadata": {},
   "source": [
    "---"
   ]
  },
  {
   "cell_type": "code",
   "execution_count": 2,
   "metadata": {},
   "outputs": [
    {
     "name": "stdout",
     "output_type": "stream",
     "text": [
      "OK\n",
      "Time taken: 0.877 seconds\n",
      "OK\n",
      "Time taken: 0.167 seconds\n",
      "OK\n",
      "Time taken: 0.008 seconds\n",
      "OK\n",
      "Time taken: 0.364 seconds\n",
      "Query ID = jdvelasq_20181017153804_134103fc-8b9a-4fc2-bd74-b972025ada00\n",
      "Total jobs = 3\n",
      "Launching Job 1 out of 3\n",
      "Number of reduce tasks is set to 0 since there's no reduce operator\n",
      "Job running in-process (local Hadoop)\n",
      "2018-10-17 15:38:08,730 Stage-1 map = 100%,  reduce = 0%\n",
      "Ended Job = job_local1840142150_0001\n",
      "Stage-4 is selected by condition resolver.\n",
      "Stage-3 is filtered out by condition resolver.\n",
      "Stage-5 is filtered out by condition resolver.\n",
      "Moving data to directory file:/Volumes/Data/hive-warehouse/sqldb.db/persons/.hive-staging_hive_2018-10-17_15-38-04_739_3565304840131412231-1/-ext-10000\n",
      "Loading data to table sqldb.persons\n",
      "MapReduce Jobs Launched: \n",
      "Stage-Stage-1:  HDFS Read: 0 HDFS Write: 0 SUCCESS\n",
      "Total MapReduce CPU Time Spent: 0 msec\n",
      "OK\n",
      "Time taken: 4.149 seconds\n"
     ]
    }
   ],
   "source": [
    "%%hive\n",
    "DROP DATABASE IF EXISTS SQLdb CASCADE;\n",
    "\n",
    "CREATE DATABASE SQLdb;\n",
    "USE SQLdb;\n",
    "\n",
    "CREATE TABLE persons (\n",
    "    id INT,\n",
    "    firstname VARCHAR(10),\n",
    "    surname VARCHAR(10),\n",
    "    birthday DATE,\n",
    "    color VARCHAR(10),\n",
    "    quantity INT\n",
    ");\n",
    "\n",
    "INSERT INTO persons VALUES\n",
    "    (1,\"Vivian\",\"Hamilton\",\"1971-07-08\",\"green\",1),\n",
    "    (2,\"Karen\",\"Holcomb\",\"1974-05-23\",\"green\",4),\n",
    "    (3,\"Cody\",\"Garrett\",\"1973-04-22\",\"orange\",1),\n",
    "    (4,\"Roth\",\"Fry\",\"1975-01-29\",\"black\",1),\n",
    "    (5,\"Zoe\",\"Conway\",\"1974-07-03\",\"blue\",2),\n",
    "    (6,\"Gretchen\",\"Kinney\",\"1974-10-18\",\"violea\",1),\n",
    "    (7,\"Driscoll\",\"Klein\",\"1970-10-05\",\"blue\",5),\n",
    "    (8,\"Karyn\",\"Diaz\",\"1969-02-24\",\"red\",1),\n",
    "    (9,\"Merritt\",\"Guy\",\"1974-10-17\",\"indigo\",4),\n",
    "    (10,\"Kylan\",\"Sexton\",\"1975-02-28\",\"black\",4),\n",
    "    (11,\"Jordan\",\"Estes\",\"1969-12-07\",\"indigo\",4),\n",
    "    (12,\"Hope\",\"Coffey\",\"1973-12-24\",\"green\",5),\n",
    "    (13,\"Vivian\",\"Crane\",\"1970-08-27\",\"gray\",5),\n",
    "    (14,\"Clio\",\"Noel\",\"1972-12-12\",\"red\",5),\n",
    "    (15,\"Hope\",\"Silva\",\"1970-07-01\",\"blue\",5),\n",
    "    (16,\"Ayanna\",\"Jarvis\",\"1974-02-11\",\"orange\",5),\n",
    "    (17,\"Chanda\",\"Boyer\",\"1973-04-01\",\"green\",4),\n",
    "    (18,\"Chadwick\",\"Knight\",\"1973-04-29\",\"yellow\",1);"
   ]
  },
  {
   "cell_type": "markdown",
   "metadata": {},
   "source": [
    "---"
   ]
  },
  {
   "cell_type": "markdown",
   "metadata": {},
   "source": [
    "## Selección de datos"
   ]
  },
  {
   "cell_type": "markdown",
   "metadata": {},
   "source": [
    "### SELECT\n",
    "\n",
    "    SELECT what FROM tbl_name [WHERE where-conditions] [ORDER BY column_name];\n"
   ]
  },
  {
   "cell_type": "code",
   "execution_count": 3,
   "metadata": {},
   "outputs": [
    {
     "name": "stdout",
     "output_type": "stream",
     "text": [
      "OK\n",
      "1\tVivian\tHamilton\t1971-07-08\tgreen\t1\n",
      "2\tKaren\tHolcomb\t1974-05-23\tgreen\t4\n",
      "3\tCody\tGarrett\t1973-04-22\torange\t1\n",
      "4\tRoth\tFry\t1975-01-29\tblack\t1\n",
      "5\tZoe\tConway\t1974-07-03\tblue\t2\n",
      "6\tGretchen\tKinney\t1974-10-18\tviolea\t1\n",
      "7\tDriscoll\tKlein\t1970-10-05\tblue\t5\n",
      "8\tKaryn\tDiaz\t1969-02-24\tred\t1\n",
      "9\tMerritt\tGuy\t1974-10-17\tindigo\t4\n",
      "10\tKylan\tSexton\t1975-02-28\tblack\t4\n",
      "11\tJordan\tEstes\t1969-12-07\tindigo\t4\n",
      "12\tHope\tCoffey\t1973-12-24\tgreen\t5\n",
      "13\tVivian\tCrane\t1970-08-27\tgray\t5\n",
      "14\tClio\tNoel\t1972-12-12\tred\t5\n",
      "15\tHope\tSilva\t1970-07-01\tblue\t5\n",
      "16\tAyanna\tJarvis\t1974-02-11\torange\t5\n",
      "17\tChanda\tBoyer\t1973-04-01\tgreen\t4\n",
      "18\tChadwick\tKnight\t1973-04-29\tyellow\t1\n",
      "Time taken: 0.144 seconds, Fetched: 18 row(s)\n"
     ]
    }
   ],
   "source": [
    "%%hive\n",
    "--\n",
    "-- Este es el comando básico para visualizar el contenido de la BD\n",
    "--\n",
    "SELECT * FROM persons;"
   ]
  },
  {
   "cell_type": "code",
   "execution_count": 4,
   "metadata": {
    "scrolled": false
   },
   "outputs": [
    {
     "name": "stdout",
     "output_type": "stream",
     "text": [
      "OK\n",
      "Vivian\tHamilton\t1971-07-08\n",
      "Karen\tHolcomb\t1974-05-23\n",
      "Cody\tGarrett\t1973-04-22\n",
      "Roth\tFry\t1975-01-29\n",
      "Zoe\tConway\t1974-07-03\n",
      "Gretchen\tKinney\t1974-10-18\n",
      "Driscoll\tKlein\t1970-10-05\n",
      "Karyn\tDiaz\t1969-02-24\n",
      "Merritt\tGuy\t1974-10-17\n",
      "Kylan\tSexton\t1975-02-28\n",
      "Jordan\tEstes\t1969-12-07\n",
      "Hope\tCoffey\t1973-12-24\n",
      "Vivian\tCrane\t1970-08-27\n",
      "Clio\tNoel\t1972-12-12\n",
      "Hope\tSilva\t1970-07-01\n",
      "Ayanna\tJarvis\t1974-02-11\n",
      "Chanda\tBoyer\t1973-04-01\n",
      "Chadwick\tKnight\t1973-04-29\n",
      "Time taken: 0.094 seconds, Fetched: 18 row(s)\n"
     ]
    }
   ],
   "source": [
    "%%hive\n",
    "--\n",
    "-- Selección de campos específicos\n",
    "--\n",
    "SELECT firstname, surname, birthday FROM persons;"
   ]
  },
  {
   "cell_type": "markdown",
   "metadata": {},
   "source": [
    "### LIMIT"
   ]
  },
  {
   "cell_type": "code",
   "execution_count": 5,
   "metadata": {
    "scrolled": true
   },
   "outputs": [
    {
     "name": "stdout",
     "output_type": "stream",
     "text": [
      "OK\n",
      "1\tVivian\tHamilton\t1971-07-08\tgreen\t1\n",
      "2\tKaren\tHolcomb\t1974-05-23\tgreen\t4\n",
      "3\tCody\tGarrett\t1973-04-22\torange\t1\n",
      "Time taken: 0.112 seconds, Fetched: 3 row(s)\n"
     ]
    }
   ],
   "source": [
    "%%hive\n",
    "--\n",
    "-- Se limita la cantidad de registros a visualizar.\n",
    "--\n",
    "SELECT * FROM persons LIMIT 3;"
   ]
  },
  {
   "cell_type": "code",
   "execution_count": 6,
   "metadata": {
    "scrolled": false
   },
   "outputs": [
    {
     "name": "stdout",
     "output_type": "stream",
     "text": [
      "OK\n",
      "3\tCody\tGarrett\t1973-04-22\torange\t1\n",
      "4\tRoth\tFry\t1975-01-29\tblack\t1\n",
      "5\tZoe\tConway\t1974-07-03\tblue\t2\n",
      "6\tGretchen\tKinney\t1974-10-18\tviolea\t1\n",
      "7\tDriscoll\tKlein\t1970-10-05\tblue\t5\n",
      "Time taken: 0.098 seconds, Fetched: 5 row(s)\n"
     ]
    }
   ],
   "source": [
    "%%hive\n",
    "--\n",
    "-- Grupo especifico de registros a visualizar\n",
    "--\n",
    "SELECT * FROM persons LIMIT 2,5;"
   ]
  },
  {
   "cell_type": "markdown",
   "metadata": {},
   "source": [
    "### WHERE"
   ]
  },
  {
   "cell_type": "code",
   "execution_count": 7,
   "metadata": {
    "scrolled": true
   },
   "outputs": [
    {
     "name": "stdout",
     "output_type": "stream",
     "text": [
      "OK\n",
      "5\tZoe\tConway\t1974-07-03\tblue\t2\n",
      "7\tDriscoll\tKlein\t1970-10-05\tblue\t5\n",
      "15\tHope\tSilva\t1970-07-01\tblue\t5\n",
      "Time taken: 0.152 seconds, Fetched: 3 row(s)\n"
     ]
    }
   ],
   "source": [
    "%%hive\n",
    "--\n",
    "-- Condicional.\n",
    "--\n",
    "SELECT * FROM persons WHERE color = \"blue\";"
   ]
  },
  {
   "cell_type": "markdown",
   "metadata": {},
   "source": [
    "### Operadores relacionales"
   ]
  },
  {
   "cell_type": "code",
   "execution_count": 8,
   "metadata": {},
   "outputs": [
    {
     "name": "stdout",
     "output_type": "stream",
     "text": [
      "OK\n",
      "2\tKaren\tHolcomb\t1974-05-23\tgreen\t4\n",
      "7\tDriscoll\tKlein\t1970-10-05\tblue\t5\n",
      "9\tMerritt\tGuy\t1974-10-17\tindigo\t4\n",
      "10\tKylan\tSexton\t1975-02-28\tblack\t4\n",
      "11\tJordan\tEstes\t1969-12-07\tindigo\t4\n",
      "12\tHope\tCoffey\t1973-12-24\tgreen\t5\n",
      "13\tVivian\tCrane\t1970-08-27\tgray\t5\n",
      "14\tClio\tNoel\t1972-12-12\tred\t5\n",
      "15\tHope\tSilva\t1970-07-01\tblue\t5\n",
      "16\tAyanna\tJarvis\t1974-02-11\torange\t5\n",
      "17\tChanda\tBoyer\t1973-04-01\tgreen\t4\n",
      "Time taken: 0.081 seconds, Fetched: 11 row(s)\n"
     ]
    }
   ],
   "source": [
    "%%hive\n",
    "--\n",
    "-- Operadores relacionales\n",
    "--\n",
    "SELECT * FROM persons WHERE quantity > 2;"
   ]
  },
  {
   "cell_type": "code",
   "execution_count": 9,
   "metadata": {},
   "outputs": [
    {
     "name": "stdout",
     "output_type": "stream",
     "text": [
      "OK\n",
      "2\tKaren\tHolcomb\t1974-05-23\tgreen\t4\n",
      "4\tRoth\tFry\t1975-01-29\tblack\t1\n",
      "5\tZoe\tConway\t1974-07-03\tblue\t2\n",
      "6\tGretchen\tKinney\t1974-10-18\tviolea\t1\n",
      "9\tMerritt\tGuy\t1974-10-17\tindigo\t4\n",
      "10\tKylan\tSexton\t1975-02-28\tblack\t4\n",
      "16\tAyanna\tJarvis\t1974-02-11\torange\t5\n",
      "Time taken: 0.092 seconds, Fetched: 7 row(s)\n"
     ]
    }
   ],
   "source": [
    "%%hive\n",
    "--\n",
    "-- Condicional con fechas\n",
    "--\n",
    "SELECT * FROM persons WHERE birthday >= \"1974-01-01\";"
   ]
  },
  {
   "cell_type": "code",
   "execution_count": 10,
   "metadata": {},
   "outputs": [
    {
     "name": "stdout",
     "output_type": "stream",
     "text": [
      "OK\n",
      "Vivian\ttrue\t1\tfalse\n",
      "Karen\ttrue\t4\ttrue\n",
      "Cody\ttrue\t1\tfalse\n",
      "Roth\ttrue\t1\tfalse\n",
      "Zoe\ttrue\t2\tfalse\n",
      "Gretchen\ttrue\t1\tfalse\n",
      "Driscoll\ttrue\t5\ttrue\n",
      "Karyn\ttrue\t1\tfalse\n",
      "Merritt\ttrue\t4\ttrue\n",
      "Kylan\ttrue\t4\ttrue\n",
      "Jordan\ttrue\t4\ttrue\n",
      "Hope\ttrue\t5\ttrue\n",
      "Vivian\ttrue\t5\ttrue\n",
      "Clio\ttrue\t5\ttrue\n",
      "Hope\ttrue\t5\ttrue\n",
      "Ayanna\ttrue\t5\ttrue\n",
      "Chanda\ttrue\t4\ttrue\n",
      "Chadwick\ttrue\t1\tfalse\n",
      "Time taken: 0.081 seconds, Fetched: 18 row(s)\n"
     ]
    }
   ],
   "source": [
    "%%hive\n",
    "--\n",
    "-- resultados de condicionales\n",
    "-- NO FUNCIONA EN HIVE\n",
    "--\n",
    "SELECT firstname, firstname < 'g', quantity, quantity >= 3 FROM persons;"
   ]
  },
  {
   "cell_type": "code",
   "execution_count": 11,
   "metadata": {},
   "outputs": [
    {
     "name": "stdout",
     "output_type": "stream",
     "text": [
      "OK\n",
      "Time taken: 0.024 seconds\n",
      "OK\n",
      "Time taken: 0.03 seconds\n",
      "Query ID = jdvelasq_20181017153812_bd696ddd-f9bf-41a2-95bc-113c8014ef60\n",
      "Total jobs = 3\n",
      "Launching Job 1 out of 3\n",
      "Number of reduce tasks determined at compile time: 1\n",
      "In order to change the average load for a reducer (in bytes):\n",
      "  set hive.exec.reducers.bytes.per.reducer=<number>\n",
      "In order to limit the maximum number of reducers:\n",
      "  set hive.exec.reducers.max=<number>\n",
      "In order to set a constant number of reducers:\n",
      "  set mapreduce.job.reduces=<number>\n",
      "Job running in-process (local Hadoop)\n",
      "2018-10-17 15:38:14,335 Stage-1 map = 100%,  reduce = 100%\n",
      "Ended Job = job_local1146906089_0002\n",
      "Stage-4 is selected by condition resolver.\n",
      "Stage-3 is filtered out by condition resolver.\n",
      "Stage-5 is filtered out by condition resolver.\n",
      "Moving data to directory file:/Volumes/Data/hive-warehouse/sqldb.db/jointable/.hive-staging_hive_2018-10-17_15-38-12_585_8040065933581104083-1/-ext-10000\n",
      "Loading data to table sqldb.jointable\n",
      "MapReduce Jobs Launched: \n",
      "Stage-Stage-1:  HDFS Read: 0 HDFS Write: 0 SUCCESS\n",
      "Total MapReduce CPU Time Spent: 0 msec\n",
      "OK\n",
      "Time taken: 2.071 seconds\n",
      "OK\n",
      "1\tA\n",
      "2\tB\n",
      "3\tC\n",
      "24\tX\n",
      "25\tY\n",
      "26\tZ\n",
      "Time taken: 0.072 seconds, Fetched: 6 row(s)\n"
     ]
    }
   ],
   "source": [
    "%%hive\n",
    "DROP TABLE IF EXISTS jointable;\n",
    "\n",
    "CREATE TABLE  jointable (\n",
    "    letter_id INT,\n",
    "    letter VARCHAR(1)\n",
    ");\n",
    "\n",
    "INSERT INTO jointable VALUES\n",
    "    (1,\"A\"),\n",
    "    (2,\"B\"),\n",
    "    (3,\"C\"),\n",
    "    (24,\"X\"),\n",
    "    (25,\"Y\"),\n",
    "    (26,\"Z\");\n",
    "\n",
    "SELECT * FROM jointable;"
   ]
  },
  {
   "cell_type": "markdown",
   "metadata": {},
   "source": [
    "### Subsonsultas"
   ]
  },
  {
   "cell_type": "code",
   "execution_count": 12,
   "metadata": {},
   "outputs": [
    {
     "name": "stdout",
     "output_type": "stream",
     "text": [
      "Warning: Map Join MAPJOIN[31][bigTable=?] in task 'Stage-5:MAPRED' is a cross product\n",
      "Query ID = jdvelasq_20181017153814_039c2fa6-8dfa-4e38-96e2-bca86bc1fd72\n",
      "Total jobs = 2\n",
      "Launching Job 1 out of 2\n",
      "Number of reduce tasks determined at compile time: 1\n",
      "In order to change the average load for a reducer (in bytes):\n",
      "  set hive.exec.reducers.bytes.per.reducer=<number>\n",
      "In order to limit the maximum number of reducers:\n",
      "  set hive.exec.reducers.max=<number>\n",
      "In order to set a constant number of reducers:\n",
      "  set mapreduce.job.reduces=<number>\n",
      "Job running in-process (local Hadoop)\n",
      "2018-10-17 15:38:16,812 Stage-3 map = 100%,  reduce = 100%\n",
      "Ended Job = job_local1755642924_0003\n",
      "SLF4J: Found binding in [jar:file:/Volumes/Data/big-data/hive-3.1.0/lib/log4j-slf4j-impl-2.10.0.jar!/org/slf4j/impl/StaticLoggerBinder.class]\n",
      "SLF4J: Found binding in [jar:file:/Volumes/Data/big-data/hadoop-3.1.1/share/hadoop/common/lib/slf4j-log4j12-1.7.25.jar!/org/slf4j/impl/StaticLoggerBinder.class]\n",
      "2018-10-17 15:38:29\tStarting to launch local task to process map join;\tmaximum memory = 239075328\n",
      "\n",
      "2018-10-17 15:38:29\tDump the side-table for tag: 0 with group count: 1 into file: file:/tmp/hive/java/jdvelasq/af18c2a0-980a-4bc4-b952-d222c21a4f4b/hive_2018-10-17_15-38-14_978_8401829010157969480-1/-local-10006/HashTable-Stage-5/MapJoin-mapfile10--.hashtable\n",
      "2018-10-17 15:38:29\tEnd of local task; Time Taken: 0.567 sec.\n",
      "Execution completed successfully\n",
      "MapredLocal task succeeded\n",
      "Launching Job 2 out of 2\n",
      "Number of reduce tasks is set to 0 since there's no reduce operator\n",
      "Job running in-process (local Hadoop)\n",
      "2018-10-17 15:38:33,610 Stage-5 map = 100%,  reduce = 0%\n",
      "Ended Job = job_local620034263_0004\n",
      "MapReduce Jobs Launched: \n",
      "Stage-Stage-3:  HDFS Read: 0 HDFS Write: 0 SUCCESS\n",
      "Stage-Stage-5:  HDFS Read: 0 HDFS Write: 0 SUCCESS\n",
      "Total MapReduce CPU Time Spent: 0 msec\n",
      "OK\n",
      "2\tB\n",
      "Time taken: 18.639 seconds, Fetched: 1 row(s)\n"
     ]
    }
   ],
   "source": [
    "%%hive\n",
    "SELECT * FROM jointable\n",
    "WHERE letter_id = (SELECT id FROM persons WHERE firstname = 'Karen');"
   ]
  },
  {
   "cell_type": "code",
   "execution_count": 13,
   "metadata": {},
   "outputs": [
    {
     "name": "stdout",
     "output_type": "stream",
     "text": [
      ";\n",
      "Query ID = jdvelasq_20181017153833_306f9acc-e7c9-4bf0-a0e0-72749f7038fb\n",
      "Total jobs = 2\n",
      "Launching Job 1 out of 2\n",
      "Number of reduce tasks determined at compile time: 1\n",
      "In order to change the average load for a reducer (in bytes):\n",
      "  set hive.exec.reducers.bytes.per.reducer=<number>\n",
      "In order to limit the maximum number of reducers:\n",
      "  set hive.exec.reducers.max=<number>\n",
      "In order to set a constant number of reducers:\n",
      "  set mapreduce.job.reduces=<number>\n",
      "Job running in-process (local Hadoop)\n",
      "2018-10-17 15:38:35,544 Stage-2 map = 100%,  reduce = 100%\n",
      "Ended Job = job_local836258394_0005\n",
      "SLF4J: Found binding in [jar:file:/Volumes/Data/big-data/hive-3.1.0/lib/log4j-slf4j-impl-2.10.0.jar!/org/slf4j/impl/StaticLoggerBinder.class]\n",
      "2018-10-17 15:38:47\tStarting to launch local task to process map join;\tmaximum memory = 239075328\n",
      "\n",
      "2018-10-17 15:38:48\tEnd of local task; Time Taken: 0.532 sec.\n",
      "Execution completed successfully\n",
      "MapredLocal task succeeded\n",
      "Launching Job 2 out of 2\n",
      "Number of reduce tasks is set to 0 since there's no reduce operator\n",
      "Job running in-process (local Hadoop)\n",
      "2018-10-17 15:38:52,242 Stage-3 map = 100%,  reduce = 0%\n",
      "Ended Job = job_local2001826212_0006\n",
      "MapReduce Jobs Launched: \n",
      "Stage-Stage-2:  HDFS Read: 0 HDFS Write: 0 SUCCESS\n",
      "Stage-Stage-3:  HDFS Read: 0 HDFS Write: 0 SUCCESS\n",
      "Total MapReduce CPU Time Spent: 0 msec\n",
      "OK\n",
      "8\tKaryn\tDiaz\t1969-02-24\tred\t1\n",
      "Time taken: 18.319 seconds, Fetched: 1 row(s)\n"
     ]
    }
   ],
   "source": [
    "%%hive\n",
    "--\n",
    "-- Sub-consultas.\n",
    "-- Busca la persona más vieja en la tabla.\n",
    "--\n",
    "SELECT * FROM persons WHERE birthday = (SELECT MIN(birthday) FROM persons);"
   ]
  },
  {
   "cell_type": "markdown",
   "metadata": {},
   "source": [
    "---"
   ]
  },
  {
   "cell_type": "markdown",
   "metadata": {},
   "source": [
    "> Otros ejemplos son presentados [aquí](https://github.com/jdvelasq/bash-for-analytics/blob/master/05-sql.ipynb)"
   ]
  },
  {
   "cell_type": "markdown",
   "metadata": {},
   "source": [
    "----"
   ]
  },
  {
   "cell_type": "markdown",
   "metadata": {},
   "source": [
    "### DISTINCT"
   ]
  },
  {
   "cell_type": "code",
   "execution_count": 14,
   "metadata": {},
   "outputs": [
    {
     "name": "stdout",
     "output_type": "stream",
     "text": [
      "OK\n",
      "green\n",
      "green\n",
      "orange\n",
      "black\n",
      "blue\n",
      "violea\n",
      "blue\n",
      "red\n",
      "indigo\n",
      "black\n",
      "indigo\n",
      "green\n",
      "gray\n",
      "red\n",
      "blue\n",
      "orange\n",
      "green\n",
      "yellow\n",
      "Time taken: 0.067 seconds, Fetched: 18 row(s)\n"
     ]
    }
   ],
   "source": [
    "%%hive\n",
    "SELECT color FROM persons;"
   ]
  },
  {
   "cell_type": "code",
   "execution_count": 15,
   "metadata": {},
   "outputs": [
    {
     "name": "stdout",
     "output_type": "stream",
     "text": [
      "Query ID = jdvelasq_20181017153852_989b44a7-ea06-4782-b883-737b02d11b73\n",
      "Total jobs = 1\n",
      "Launching Job 1 out of 1\n",
      "Number of reduce tasks not specified. Estimated from input data size: 1\n",
      "In order to change the average load for a reducer (in bytes):\n",
      "  set hive.exec.reducers.bytes.per.reducer=<number>\n",
      "In order to limit the maximum number of reducers:\n",
      "  set hive.exec.reducers.max=<number>\n",
      "In order to set a constant number of reducers:\n",
      "  set mapreduce.job.reduces=<number>\n",
      "Job running in-process (local Hadoop)\n",
      "2018-10-17 15:38:54,026 Stage-1 map = 100%,  reduce = 100%\n",
      "Ended Job = job_local1636461217_0007\n",
      "MapReduce Jobs Launched: \n",
      "Stage-Stage-1:  HDFS Read: 0 HDFS Write: 0 SUCCESS\n",
      "Total MapReduce CPU Time Spent: 0 msec\n",
      "OK\n",
      "black\n",
      "blue\n",
      "gray\n",
      "green\n",
      "indigo\n",
      "orange\n",
      "red\n",
      "violea\n",
      "yellow\n",
      "Time taken: 1.556 seconds, Fetched: 9 row(s)\n"
     ]
    }
   ],
   "source": [
    "%%hive\n",
    "SELECT DISTINCT color FROM persons;"
   ]
  },
  {
   "cell_type": "code",
   "execution_count": 16,
   "metadata": {},
   "outputs": [
    {
     "name": "stdout",
     "output_type": "stream",
     "text": [
      "Query ID = jdvelasq_20181017153854_ee5c2634-3ff6-4f21-8f0c-6010edc0f54d\n",
      "Total jobs = 1\n",
      "Launching Job 1 out of 1\n",
      "Number of reduce tasks not specified. Estimated from input data size: 1\n",
      "In order to change the average load for a reducer (in bytes):\n",
      "  set hive.exec.reducers.bytes.per.reducer=<number>\n",
      "In order to limit the maximum number of reducers:\n",
      "  set hive.exec.reducers.max=<number>\n",
      "In order to set a constant number of reducers:\n",
      "  set mapreduce.job.reduces=<number>\n",
      "Job running in-process (local Hadoop)\n",
      "2018-10-17 15:38:55,974 Stage-1 map = 100%,  reduce = 100%\n",
      "Ended Job = job_local986633583_0008\n",
      "MapReduce Jobs Launched: \n",
      "Stage-Stage-1:  HDFS Read: 0 HDFS Write: 0 SUCCESS\n",
      "Total MapReduce CPU Time Spent: 0 msec\n",
      "OK\n",
      "Boyer\n",
      "Coffey\n",
      "Conway\n",
      "Crane\n",
      "Diaz\n",
      "Estes\n",
      "Fry\n",
      "Garrett\n",
      "Guy\n",
      "Hamilton\n",
      "Holcomb\n",
      "Jarvis\n",
      "Kinney\n",
      "Klein\n",
      "Knight\n",
      "Noel\n",
      "Sexton\n",
      "Silva\n",
      "Time taken: 1.699 seconds, Fetched: 18 row(s)\n"
     ]
    }
   ],
   "source": [
    "%%hive\n",
    "--\n",
    "-- Este comando permite ver los registro únicos de un campo.\n",
    "--\n",
    "SELECT DISTINCT surname FROM persons;"
   ]
  },
  {
   "cell_type": "code",
   "execution_count": 17,
   "metadata": {},
   "outputs": [
    {
     "name": "stdout",
     "output_type": "stream",
     "text": [
      " persons;\n",
      "Query ID = jdvelasq_20181017153856_bef9971b-3e54-46c8-8cd0-7e12cbb8b923\n",
      "Total jobs = 1\n",
      "Launching Job 1 out of 1\n",
      "Number of reduce tasks not specified. Estimated from input data size: 1\n",
      "In order to change the average load for a reducer (in bytes):\n",
      "  set hive.exec.reducers.bytes.per.reducer=<number>\n",
      "In order to limit the maximum number of reducers:\n",
      "  set hive.exec.reducers.max=<number>\n",
      "In order to set a constant number of reducers:\n",
      "  set mapreduce.job.reduces=<number>\n",
      "Job running in-process (local Hadoop)\n",
      "2018-10-17 15:38:57,781 Stage-1 map = 100%,  reduce = 100%\n",
      "Ended Job = job_local471039049_0009\n",
      "MapReduce Jobs Launched: \n",
      "Stage-Stage-1:  HDFS Read: 0 HDFS Write: 0 SUCCESS\n",
      "Total MapReduce CPU Time Spent: 0 msec\n",
      "OK\n",
      "1969\t2\t24\n",
      "1969\t12\t7\n",
      "1970\t7\t1\n",
      "1970\t8\t27\n",
      "1970\t10\t5\n",
      "1971\t7\t8\n",
      "1972\t12\t12\n",
      "1973\t4\t1\n",
      "1973\t4\t22\n",
      "1973\t4\t29\n",
      "1973\t12\t24\n",
      "1974\t2\t11\n",
      "1974\t5\t23\n",
      "1974\t7\t3\n",
      "1974\t10\t17\n",
      "1974\t10\t18\n",
      "1975\t1\t29\n",
      "1975\t2\t28\n",
      "Time taken: 1.72 seconds, Fetched: 18 row(s)\n"
     ]
    }
   ],
   "source": [
    "%%hive\n",
    "SELECT DISTINCT YEAR(birthday), MONTH(birthday), DAYOFMONTH(birthday) FROM persons;"
   ]
  },
  {
   "cell_type": "code",
   "execution_count": 18,
   "metadata": {},
   "outputs": [
    {
     "name": "stdout",
     "output_type": "stream",
     "text": [
      "Query ID = jdvelasq_20181017153858_a06ef2d1-244c-446b-9c2e-3c71093c4b50\n",
      "Total jobs = 1\n",
      "Launching Job 1 out of 1\n",
      "Number of reduce tasks determined at compile time: 1\n",
      "In order to change the average load for a reducer (in bytes):\n",
      "  set hive.exec.reducers.bytes.per.reducer=<number>\n",
      "In order to limit the maximum number of reducers:\n",
      "  set hive.exec.reducers.max=<number>\n",
      "In order to set a constant number of reducers:\n",
      "  set mapreduce.job.reduces=<number>\n",
      "Job running in-process (local Hadoop)\n",
      "2018-10-17 15:38:59,700 Stage-1 map = 100%,  reduce = 100%\n",
      "Ended Job = job_local1808967036_0010\n",
      "MapReduce Jobs Launched: \n",
      "Stage-Stage-1:  HDFS Read: 0 HDFS Write: 0 SUCCESS\n",
      "Total MapReduce CPU Time Spent: 0 msec\n",
      "OK\n",
      "9\n",
      "Time taken: 1.666 seconds, Fetched: 1 row(s)\n"
     ]
    }
   ],
   "source": [
    "%%hive\n",
    "--\n",
    "-- numero de colores diferentes\n",
    "--\n",
    "SELECT COUNT(DISTINCT color) FROM persons;"
   ]
  },
  {
   "cell_type": "markdown",
   "metadata": {},
   "source": [
    "### NULL"
   ]
  },
  {
   "cell_type": "code",
   "execution_count": 19,
   "metadata": {},
   "outputs": [
    {
     "name": "stdout",
     "output_type": "stream",
     "text": [
      "OK\n",
      "Time taken: 0.004 seconds\n",
      "OK\n",
      "Time taken: 0.032 seconds\n",
      "Query ID = jdvelasq_20181017153900_82f402c0-9e38-491a-8037-5a913ec63615\n",
      "Total jobs = 3\n",
      "Launching Job 1 out of 3\n",
      "Number of reduce tasks determined at compile time: 1\n",
      "In order to change the average load for a reducer (in bytes):\n",
      "  set hive.exec.reducers.bytes.per.reducer=<number>\n",
      "In order to limit the maximum number of reducers:\n",
      "  set hive.exec.reducers.max=<number>\n",
      "In order to set a constant number of reducers:\n",
      "  set mapreduce.job.reduces=<number>\n",
      "Job running in-process (local Hadoop)\n",
      "2018-10-17 15:39:02,207 Stage-1 map = 100%,  reduce = 100%\n",
      "Ended Job = job_local259858853_0011\n",
      "Stage-4 is selected by condition resolver.\n",
      "Stage-3 is filtered out by condition resolver.\n",
      "Stage-5 is filtered out by condition resolver.\n",
      "Moving data to directory file:/Volumes/Data/hive-warehouse/sqldb.db/nulltable/.hive-staging_hive_2018-10-17_15-39-00_426_7553573792791608184-1/-ext-10000\n",
      "Loading data to table sqldb.nulltable\n",
      "MapReduce Jobs Launched: \n",
      "Stage-Stage-1:  HDFS Read: 0 HDFS Write: 0 SUCCESS\n",
      "Total MapReduce CPU Time Spent: 0 msec\n",
      "OK\n",
      "Time taken: 1.875 seconds\n",
      "OK\n",
      "1\tA\n",
      "2\tNULL\n",
      "NULL\tC\n",
      "NULL\tNULL\n",
      "5\tE\n",
      "Time taken: 0.061 seconds, Fetched: 5 row(s)\n"
     ]
    }
   ],
   "source": [
    "%%hive\n",
    "DROP TABLE IF EXISTS nulltable;\n",
    "CREATE TABLE  nulltable (\n",
    "    col1 INT,\n",
    "    col2 VARCHAR(1)\n",
    ");\n",
    "\n",
    "INSERT INTO nulltable VALUES\n",
    "    (1,\"A\"),\n",
    "    (2,NULL),\n",
    "    (NULL,\"C\"),\n",
    "    (NULL,NULL),\n",
    "    (5,\"E\");\n",
    "\n",
    "SELECT * FROM nulltable;"
   ]
  },
  {
   "cell_type": "code",
   "execution_count": 20,
   "metadata": {},
   "outputs": [
    {
     "name": "stdout",
     "output_type": "stream",
     "text": [
      "OK\n",
      "NULL\tC\n",
      "NULL\tNULL\n",
      "Time taken: 0.074 seconds, Fetched: 2 row(s)\n"
     ]
    }
   ],
   "source": [
    "%%hive\n",
    "SELECT * FROM nulltable WHERE col1 IS NULL;"
   ]
  },
  {
   "cell_type": "code",
   "execution_count": 21,
   "metadata": {},
   "outputs": [
    {
     "name": "stdout",
     "output_type": "stream",
     "text": [
      "OK\n",
      "2\tNULL\n",
      "NULL\tNULL\n",
      "Time taken: 0.205 seconds, Fetched: 2 row(s)\n"
     ]
    }
   ],
   "source": [
    "%%hive\n",
    "SELECT * FROM nulltable WHERE col2 IS NULL;"
   ]
  },
  {
   "cell_type": "code",
   "execution_count": 22,
   "metadata": {},
   "outputs": [
    {
     "name": "stdout",
     "output_type": "stream",
     "text": [
      "OK\n",
      "1\tA\n",
      "2\tUnknown\n",
      "Unknown\tC\n",
      "Unknown\tUnknown\n",
      "5\tE\n",
      "Time taken: 0.072 seconds, Fetched: 5 row(s)\n"
     ]
    }
   ],
   "source": [
    "%%hive\n",
    "--\n",
    "-- condicionales\n",
    "--\n",
    "SELECT \n",
    "    IF(col1 IS NULL,'Unknown', col1), \n",
    "    IF(col2 IS NULL,'Unknown', col2) \n",
    "FROM \n",
    "    nulltable;"
   ]
  },
  {
   "cell_type": "code",
   "execution_count": 23,
   "metadata": {},
   "outputs": [],
   "source": [
    "%%hive\n",
    "--\n",
    "-- condicionales\n",
    "-- No existe en Hive\n",
    "-- SELECT \n",
    "--     IFNULL(col1,'Unknown'), \n",
    "--     IFNULL(col2,'Unknown')\n",
    "-- FROM \n",
    "--     nulltable;"
   ]
  },
  {
   "cell_type": "markdown",
   "metadata": {},
   "source": [
    "### ORDER BY"
   ]
  },
  {
   "cell_type": "code",
   "execution_count": 24,
   "metadata": {},
   "outputs": [
    {
     "name": "stdout",
     "output_type": "stream",
     "text": [
      "OK\n",
      "1\tVivian\tHamilton\t1971-07-08\tgreen\t1\n",
      "2\tKaren\tHolcomb\t1974-05-23\tgreen\t4\n",
      "3\tCody\tGarrett\t1973-04-22\torange\t1\n",
      "4\tRoth\tFry\t1975-01-29\tblack\t1\n",
      "5\tZoe\tConway\t1974-07-03\tblue\t2\n",
      "6\tGretchen\tKinney\t1974-10-18\tviolea\t1\n",
      "7\tDriscoll\tKlein\t1970-10-05\tblue\t5\n",
      "8\tKaryn\tDiaz\t1969-02-24\tred\t1\n",
      "9\tMerritt\tGuy\t1974-10-17\tindigo\t4\n",
      "10\tKylan\tSexton\t1975-02-28\tblack\t4\n",
      "11\tJordan\tEstes\t1969-12-07\tindigo\t4\n",
      "12\tHope\tCoffey\t1973-12-24\tgreen\t5\n",
      "13\tVivian\tCrane\t1970-08-27\tgray\t5\n",
      "14\tClio\tNoel\t1972-12-12\tred\t5\n",
      "15\tHope\tSilva\t1970-07-01\tblue\t5\n",
      "16\tAyanna\tJarvis\t1974-02-11\torange\t5\n",
      "17\tChanda\tBoyer\t1973-04-01\tgreen\t4\n",
      "18\tChadwick\tKnight\t1973-04-29\tyellow\t1\n",
      "Time taken: 0.061 seconds, Fetched: 18 row(s)\n"
     ]
    }
   ],
   "source": [
    "%%hive\n",
    "SELECT * FROM persons;"
   ]
  },
  {
   "cell_type": "code",
   "execution_count": 25,
   "metadata": {},
   "outputs": [
    {
     "name": "stdout",
     "output_type": "stream",
     "text": [
      "Query ID = jdvelasq_20181017153904_27b4bb4a-54e2-4bc4-bfe3-19afedf55a26\n",
      "Total jobs = 1\n",
      "Launching Job 1 out of 1\n",
      "Number of reduce tasks determined at compile time: 1\n",
      "In order to change the average load for a reducer (in bytes):\n",
      "  set hive.exec.reducers.bytes.per.reducer=<number>\n",
      "In order to limit the maximum number of reducers:\n",
      "  set hive.exec.reducers.max=<number>\n",
      "In order to set a constant number of reducers:\n",
      "  set mapreduce.job.reduces=<number>\n",
      "Job running in-process (local Hadoop)\n",
      "2018-10-17 15:39:05,823 Stage-1 map = 100%,  reduce = 100%\n",
      "Ended Job = job_local1886661098_0012\n",
      "MapReduce Jobs Launched: \n",
      "Stage-Stage-1:  HDFS Read: 0 HDFS Write: 0 SUCCESS\n",
      "Total MapReduce CPU Time Spent: 0 msec\n",
      "OK\n",
      "8\tKaryn\tDiaz\t1969-02-24\tred\t1\n",
      "Time taken: 1.574 seconds, Fetched: 1 row(s)\n"
     ]
    }
   ],
   "source": [
    "%%hive\n",
    "--\n",
    "-- Selecciona el primer registro\n",
    "--\n",
    "SELECT * FROM persons ORDER BY birthday LIMIT 1;"
   ]
  },
  {
   "cell_type": "code",
   "execution_count": 26,
   "metadata": {},
   "outputs": [
    {
     "name": "stdout",
     "output_type": "stream",
     "text": [
      "Query ID = jdvelasq_20181017153906_0195fb76-0dc0-44ce-8eeb-ebafedc016b5\n",
      "Total jobs = 1\n",
      "Launching Job 1 out of 1\n",
      "Number of reduce tasks determined at compile time: 1\n",
      "In order to change the average load for a reducer (in bytes):\n",
      "  set hive.exec.reducers.bytes.per.reducer=<number>\n",
      "In order to limit the maximum number of reducers:\n",
      "  set hive.exec.reducers.max=<number>\n",
      "In order to set a constant number of reducers:\n",
      "  set mapreduce.job.reduces=<number>\n",
      "Job running in-process (local Hadoop)\n",
      "2018-10-17 15:39:07,754 Stage-1 map = 100%,  reduce = 100%\n",
      "Ended Job = job_local452595430_0013\n",
      "MapReduce Jobs Launched: \n",
      "Stage-Stage-1:  HDFS Read: 0 HDFS Write: 0 SUCCESS\n",
      "Total MapReduce CPU Time Spent: 0 msec\n",
      "OK\n",
      "10\tKylan\tSexton\t1975-02-28\tblack\t4\n",
      "Time taken: 1.68 seconds, Fetched: 1 row(s)\n"
     ]
    }
   ],
   "source": [
    "%%hive\n",
    "--\n",
    "-- Selecciona el último registro\n",
    "--\n",
    "SELECT * FROM persons ORDER BY birthday DESC LIMIT 1;"
   ]
  },
  {
   "cell_type": "code",
   "execution_count": 27,
   "metadata": {},
   "outputs": [
    {
     "name": "stdout",
     "output_type": "stream",
     "text": [
      "Query ID = jdvelasq_20181017153908_ae5132df-2a7a-4cb7-8863-4c1725233e25\n",
      "Total jobs = 1\n",
      "Launching Job 1 out of 1\n",
      "Number of reduce tasks determined at compile time: 1\n",
      "In order to change the average load for a reducer (in bytes):\n",
      "  set hive.exec.reducers.bytes.per.reducer=<number>\n",
      "In order to limit the maximum number of reducers:\n",
      "  set hive.exec.reducers.max=<number>\n",
      "In order to set a constant number of reducers:\n",
      "  set mapreduce.job.reduces=<number>\n",
      "Job running in-process (local Hadoop)\n",
      "2018-10-17 15:39:09,744 Stage-1 map = 100%,  reduce = 100%\n",
      "Ended Job = job_local299950372_0014\n",
      "MapReduce Jobs Launched: \n",
      "Stage-Stage-1:  HDFS Read: 0 HDFS Write: 0 SUCCESS\n",
      "Total MapReduce CPU Time Spent: 0 msec\n",
      "OK\n",
      "13\tVivian\tCrane\t1970-08-27\tgray\t5\n",
      "7\tDriscoll\tKlein\t1970-10-05\tblue\t5\n",
      "Time taken: 1.739 seconds, Fetched: 2 row(s)\n"
     ]
    }
   ],
   "source": [
    "%%hive\n",
    "--\n",
    "-- Selecciona una perte intermedia de los registros\n",
    "--\n",
    "SELECT * FROM persons ORDER BY birthday LIMIT 3,2;"
   ]
  },
  {
   "cell_type": "code",
   "execution_count": 28,
   "metadata": {},
   "outputs": [
    {
     "name": "stdout",
     "output_type": "stream",
     "text": [
      "Query ID = jdvelasq_20181017153909_770ddff5-0f0c-4bcc-bb46-c97da911a5ef\n",
      "Total jobs = 1\n",
      "Launching Job 1 out of 1\n",
      "Number of reduce tasks determined at compile time: 1\n",
      "In order to change the average load for a reducer (in bytes):\n",
      "  set hive.exec.reducers.bytes.per.reducer=<number>\n",
      "In order to limit the maximum number of reducers:\n",
      "  set hive.exec.reducers.max=<number>\n",
      "In order to set a constant number of reducers:\n",
      "  set mapreduce.job.reduces=<number>\n",
      "Job running in-process (local Hadoop)\n",
      "2018-10-17 15:39:11,680 Stage-1 map = 100%,  reduce = 100%\n",
      "Ended Job = job_local1367480493_0015\n",
      "MapReduce Jobs Launched: \n",
      "Stage-Stage-1:  HDFS Read: 0 HDFS Write: 0 SUCCESS\n",
      "Total MapReduce CPU Time Spent: 0 msec\n",
      "OK\n",
      "10\tKylan\tSexton\t1975-02-28\tblack\t4\n",
      "17\tChanda\tBoyer\t1973-04-01\tgreen\t4\n",
      "2\tKaren\tHolcomb\t1974-05-23\tgreen\t4\n",
      "11\tJordan\tEstes\t1969-12-07\tindigo\t4\n",
      "9\tMerritt\tGuy\t1974-10-17\tindigo\t4\n",
      "15\tHope\tSilva\t1970-07-01\tblue\t5\n",
      "7\tDriscoll\tKlein\t1970-10-05\tblue\t5\n",
      "13\tVivian\tCrane\t1970-08-27\tgray\t5\n",
      "12\tHope\tCoffey\t1973-12-24\tgreen\t5\n",
      "16\tAyanna\tJarvis\t1974-02-11\torange\t5\n",
      "14\tClio\tNoel\t1972-12-12\tred\t5\n",
      "Time taken: 1.688 seconds, Fetched: 11 row(s)\n"
     ]
    }
   ],
   "source": [
    "%%hive\n",
    "--\n",
    "-- Orden ascendente\n",
    "--\n",
    "SELECT * FROM persons WHERE quantity > 2 ORDER BY quantity, color;"
   ]
  },
  {
   "cell_type": "code",
   "execution_count": 29,
   "metadata": {},
   "outputs": [
    {
     "name": "stdout",
     "output_type": "stream",
     "text": [
      "Query ID = jdvelasq_20181017153911_2b3a4b66-f385-475e-81e3-8947fff20d2a\n",
      "Total jobs = 1\n",
      "Launching Job 1 out of 1\n",
      "Number of reduce tasks determined at compile time: 1\n",
      "In order to change the average load for a reducer (in bytes):\n",
      "  set hive.exec.reducers.bytes.per.reducer=<number>\n",
      "In order to limit the maximum number of reducers:\n",
      "  set hive.exec.reducers.max=<number>\n",
      "In order to set a constant number of reducers:\n",
      "  set mapreduce.job.reduces=<number>\n",
      "Job running in-process (local Hadoop)\n",
      "2018-10-17 15:39:13,622 Stage-1 map = 100%,  reduce = 100%\n",
      "Ended Job = job_local579451863_0016\n",
      "MapReduce Jobs Launched: \n",
      "Stage-Stage-1:  HDFS Read: 0 HDFS Write: 0 SUCCESS\n",
      "Total MapReduce CPU Time Spent: 0 msec\n",
      "OK\n",
      "15\tHope\tSilva\t1970-07-01\tblue\t5\n",
      "7\tDriscoll\tKlein\t1970-10-05\tblue\t5\n",
      "13\tVivian\tCrane\t1970-08-27\tgray\t5\n",
      "12\tHope\tCoffey\t1973-12-24\tgreen\t5\n",
      "16\tAyanna\tJarvis\t1974-02-11\torange\t5\n",
      "14\tClio\tNoel\t1972-12-12\tred\t5\n",
      "10\tKylan\tSexton\t1975-02-28\tblack\t4\n",
      "17\tChanda\tBoyer\t1973-04-01\tgreen\t4\n",
      "2\tKaren\tHolcomb\t1974-05-23\tgreen\t4\n",
      "11\tJordan\tEstes\t1969-12-07\tindigo\t4\n",
      "9\tMerritt\tGuy\t1974-10-17\tindigo\t4\n",
      "Time taken: 1.691 seconds, Fetched: 11 row(s)\n"
     ]
    }
   ],
   "source": [
    "%%hive\n",
    "--\n",
    "-- Orden descendente en quantity\n",
    "--\n",
    "SELECT * FROM persons WHERE quantity > 2 ORDER BY quantity DESC, color;"
   ]
  },
  {
   "cell_type": "markdown",
   "metadata": {},
   "source": [
    "### JOIN\n",
    "\n",
    "Los joins permiten unir la información de dos o más tablas. Los distintos tipos de joins son explicados en la siguiente gráfica:\n",
    "\n",
    "![joins.jpg](images/joins.jpg)"
   ]
  },
  {
   "cell_type": "code",
   "execution_count": 30,
   "metadata": {},
   "outputs": [
    {
     "name": "stdout",
     "output_type": "stream",
     "text": [
      "Query ID = jdvelasq_20181017153913_66f90136-02eb-48ac-b58f-128620df483c\n",
      "Total jobs = 1\n",
      "SLF4J: Found binding in [jar:file:/Volumes/Data/big-data/hive-3.1.0/lib/log4j-slf4j-impl-2.10.0.jar!/org/slf4j/impl/StaticLoggerBinder.class]\n",
      "\n",
      "SLF4J: Actual binding is of type [org.apache.logging.slf4j.Log4jLoggerFactory]\n",
      "2018-10-17 15:39:27\tDump the side-table for tag: 1 with group count: 6 into file: file:/tmp/hive/java/jdvelasq/af18c2a0-980a-4bc4-b952-d222c21a4f4b/hive_2018-10-17_15-39-13_769_5202159021142400961-1/-local-10004/HashTable-Stage-3/MapJoin-mapfile31--.hashtable\n",
      "2018-10-17 15:39:27\tEnd of local task; Time Taken: 0.609 sec.\n",
      "Execution completed successfully\n",
      "MapredLocal task succeeded\n",
      "Launching Job 1 out of 1\n",
      "Number of reduce tasks is set to 0 since there's no reduce operator\n",
      "Job running in-process (local Hadoop)\n",
      "2018-10-17 15:39:31,916 Stage-3 map = 100%,  reduce = 0%\n",
      "Ended Job = job_local1572442549_0017\n",
      "MapReduce Jobs Launched: \n",
      "Stage-Stage-3:  HDFS Read: 0 HDFS Write: 0 SUCCESS\n",
      "Total MapReduce CPU Time Spent: 0 msec\n",
      "OK\n",
      "1\tVivian\tA\n",
      "2\tKaren\tB\n",
      "3\tCody\tC\n",
      "Time taken: 18.151 seconds, Fetched: 3 row(s)\n"
     ]
    }
   ],
   "source": [
    "%%hive\n",
    "SELECT id, firstname, letter\n",
    "FROM persons INNER JOIN jointable ON id = letter_id;"
   ]
  },
  {
   "cell_type": "markdown",
   "metadata": {},
   "source": [
    "### INSERT OVERWRITE"
   ]
  },
  {
   "cell_type": "code",
   "execution_count": 31,
   "metadata": {},
   "outputs": [],
   "source": [
    "!mkdir output"
   ]
  },
  {
   "cell_type": "code",
   "execution_count": 32,
   "metadata": {},
   "outputs": [
    {
     "name": "stdout",
     "output_type": "stream",
     "text": [
      "Query ID = jdvelasq_20181017153932_f145d4e2-d32a-4be9-ac9f-5374db79506c\n",
      "Total jobs = 1\n",
      "Launching Job 1 out of 1\n",
      "Number of reduce tasks is set to 0 since there's no reduce operator\n",
      "Job running in-process (local Hadoop)\n",
      "2018-10-17 15:39:33,872 Stage-1 map = 100%,  reduce = 0%\n",
      "Ended Job = job_local1791040591_0018\n",
      "Moving data to local directory /tmp/output\n",
      "MapReduce Jobs Launched: \n",
      "Stage-Stage-1:  HDFS Read: 0 HDFS Write: 0 SUCCESS\n",
      "Total MapReduce CPU Time Spent: 0 msec\n",
      "OK\n",
      "Time taken: 1.532 seconds\n"
     ]
    }
   ],
   "source": [
    "%%hive\n",
    "INSERT OVERWRITE LOCAL DIRECTORY \n",
    "    '/tmp/output' \n",
    "ROW FORMAT \n",
    "DELIMITED FIELDS TERMINATED BY ',' \n",
    "SELECT * FROM persons;"
   ]
  },
  {
   "cell_type": "code",
   "execution_count": 33,
   "metadata": {},
   "outputs": [
    {
     "name": "stdout",
     "output_type": "stream",
     "text": [
      "/tmp/output/000000_0\n"
     ]
    }
   ],
   "source": [
    "!ls /tmp/output/*"
   ]
  },
  {
   "cell_type": "code",
   "execution_count": 34,
   "metadata": {},
   "outputs": [
    {
     "name": "stdout",
     "output_type": "stream",
     "text": [
      "1,Vivian,Hamilton,1971-07-08,green,1\n",
      "2,Karen,Holcomb,1974-05-23,green,4\n",
      "3,Cody,Garrett,1973-04-22,orange,1\n",
      "4,Roth,Fry,1975-01-29,black,1\n",
      "5,Zoe,Conway,1974-07-03,blue,2\n",
      "6,Gretchen,Kinney,1974-10-18,violea,1\n",
      "7,Driscoll,Klein,1970-10-05,blue,5\n",
      "8,Karyn,Diaz,1969-02-24,red,1\n",
      "9,Merritt,Guy,1974-10-17,indigo,4\n",
      "10,Kylan,Sexton,1975-02-28,black,4\n",
      "11,Jordan,Estes,1969-12-07,indigo,4\n",
      "12,Hope,Coffey,1973-12-24,green,5\n",
      "13,Vivian,Crane,1970-08-27,gray,5\n",
      "14,Clio,Noel,1972-12-12,red,5\n",
      "15,Hope,Silva,1970-07-01,blue,5\n",
      "16,Ayanna,Jarvis,1974-02-11,orange,5\n",
      "17,Chanda,Boyer,1973-04-01,green,4\n",
      "18,Chadwick,Knight,1973-04-29,yellow,1\n"
     ]
    }
   ],
   "source": [
    "!cat /tmp/output/000000_0"
   ]
  },
  {
   "cell_type": "code",
   "execution_count": 35,
   "metadata": {},
   "outputs": [],
   "source": [
    "!rm -rf /tmp/ouput"
   ]
  },
  {
   "cell_type": "markdown",
   "metadata": {},
   "source": [
    "---"
   ]
  }
 ],
 "metadata": {
  "kernelspec": {
   "display_name": "Python 3",
   "language": "python",
   "name": "python3"
  },
  "language_info": {
   "codemirror_mode": {
    "name": "ipython",
    "version": 3
   },
   "file_extension": ".py",
   "mimetype": "text/x-python",
   "name": "python",
   "nbconvert_exporter": "python",
   "pygments_lexer": "ipython3",
   "version": "3.6.5"
  },
  "toc": {
   "base_numbering": 1,
   "nav_menu": {},
   "number_sections": false,
   "sideBar": true,
   "skip_h1_title": true,
   "title_cell": "Table of Contents",
   "title_sidebar": "Contents",
   "toc_cell": false,
   "toc_position": {},
   "toc_section_display": true,
   "toc_window_display": true
  },
  "toc-autonumbering": false
 },
 "nbformat": 4,
 "nbformat_minor": 2
}
