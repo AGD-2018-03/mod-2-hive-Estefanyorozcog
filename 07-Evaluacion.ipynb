{
 "cells": [
  {
   "cell_type": "markdown",
   "metadata": {},
   "source": [
    "**Recuerde no agregar o quitar celdas en este notebook, ni modificar su tipo. Si lo hace, el sistema automaticamente lo calificará con cero punto cero (0.0)**"
   ]
  },
  {
   "cell_type": "markdown",
   "metadata": {},
   "source": [
    "Para resolver los problemas presentados, use el siguiente conjunto de datos. Use [gradetool](gradetool.md) para verificar las respuestas del notebook."
   ]
  },
  {
   "cell_type": "code",
   "execution_count": null,
   "metadata": {},
   "outputs": [],
   "source": [
    "%%writefile data.tsv\nE\tb,g,f\tjjj#3,bbb#0,ddd#9,ggg#8,hhh#2\nA\ta,f,c\tccc#2,ddd#0,aaa#3,hhh#9\nB\tf,e,a,c\tddd#2,ggg#5,ccc#6,jjj#1\nA\ta,b\thhh#9,iii#5,eee#7,bbb#1\nC\tf,g,d,a\tiii#6,ddd#5,eee#4,jjj#3\nA\tc,d\tbbb#2,hhh#0,ccc#4,fff#1,aaa#7\nA\tg,d,a\taaa#5,fff#8,ddd#2,iii#0,jjj#7,ccc#1\nB\tb,a\tfff#3,hhh#1,ddd#2\nE\td,e,a,f\teee#4,ccc#5,iii#9,fff#7,ggg#6,bbb#0\nB\td,b,g,f\tbbb#7,jjj#9,fff#5,iii#4,ggg#2,eee#3\nC\td,c,f,b\thhh#6,eee#4,iii#0,fff#2,jjj#1\nC\td,e,a,c\tbbb#7,iii#6,ggg#9\nD\tg,e,f,b\tbbb#9,aaa#3,ccc#6,fff#4,eee#2\nE\tc,f\taaa#8,ddd#5,jjj#1\nB\td,b\tccc#0,jjj#6,fff#7,ddd#3,aaa#2\nD\tf,e\tccc#0,eee#6,bbb#9,ddd#3\nE\te,b,f\tbbb#6,iii#3,hhh#5,fff#4,ggg#9,ddd#2\nD\tg,a\thhh#4,jjj#5,ccc#9\nE\te,c,f,a\tccc#1,iii#6,fff#9\nE\te,a\tbbb#9,aaa#3,fff#1\nE\te,f\tddd#9,iii#2,aaa#4\nE\tc,b,g\tccc#5,fff#8,iii#7\nD\tc,f,a\teee#3,jjj#2,ddd#7\nA\tf,a,d\tjjj#1,ggg#0,ccc#7,ddd#9,bbb#3\nE\tc,d\tjjj#6,ccc#0,aaa#1,hhh#9,iii#7,ggg#8\nE\te,d,c\tfff#3,eee#6,iii#4,bbb#7,ddd#0,ccc#1\nA\ta,e,f\tfff#0,ddd#5,ccc#4\nE\tc,a,g\tggg#6,hhh#3,ddd#9,ccc#0,jjj#7\nA\tf,e\thhh#6,jjj#0,eee#5,iii#7,ccc#3\nC\tf,c,a,g\teee#1,fff#4,aaa#2,ccc#7,ggg#0,ddd#6\nA\tb,f\tccc#6,aaa#9,eee#5,ddd#0,bbb#3\nD\tb,f\tbbb#7,hhh#1,aaa#6,iii#4,fff#9,ddd#5\nE\ta,c\tfff#3,ccc#1,ggg#2,eee#5\nB\tb,f,c\tiii#7,ggg#3,ddd#0,jjj#8,hhh#5,ccc#1\nB\tf,a,e\thhh#6,ccc#3,jjj#0,bbb#8,ddd#7\nD\ta,f\taaa#0,fff#5,ddd#3\nB\tc,a\tddd#5,jjj#2,iii#7,ccc#0,bbb#4\nC\tc,a,e,f\teee#0,fff#2,hhh#6\nE\te,d\tfff#9,iii#2,eee#0\nE\tf,a,d\thhh#8,ggg#3,jjj#5"
   ]
  },
  {
   "cell_type": "code",
   "execution_count": null,
   "metadata": {},
   "outputs": [],
   "source": [
    "%run bd.py\n%hive_init"
   ]
  },
  {
   "cell_type": "code",
   "execution_count": null,
   "metadata": {},
   "outputs": [],
   "source": [
    "%%hive\nDROP TABLE IF EXISTS t0;\nCREATE TABLE t0 (\n    c1 STRING,\n    c2 ARRAY<CHAR(1)>, \n    c3 MAP<STRING, INT>\n)\nROW FORMAT DELIMITED \nFIELDS TERMINATED BY '\\t'\nCOLLECTION ITEMS TERMINATED BY ','\nMAP KEYS TERMINATED BY '#'\nLINES TERMINATED BY '\\n';\n\nLOAD DATA LOCAL INPATH 'data.tsv' INTO TABLE t0;\n\n-- SELECT * FROM t0;"
   ]
  },
  {
   "cell_type": "markdown",
   "metadata": {},
   "source": [
    "# Problema 1\n",
    "\n",
    "Escriba una consulta que calcule la cantidad de registros por clave de la columna 3. En otras palabras, cuántos registros hay que tengan la clave `aaa`?"
   ]
  },
  {
   "cell_type": "code",
   "execution_count": null,
   "metadata": {},
   "outputs": [],
   "source": [
    "%%hive\n-- >>> Write your answer here <<<"
   ]
  },
  {
   "cell_type": "markdown",
   "metadata": {},
   "source": [
    "# Problema 2\n",
    "\n",
    "Escriba una consulta que retorne la primera columna, la cantidad de elementos en la columna 2 y la cantidad de elementos en la columna 3"
   ]
  },
  {
   "cell_type": "code",
   "execution_count": null,
   "metadata": {},
   "outputs": [],
   "source": [
    "%%hive\n-- >>> Write your answer here <<<"
   ]
  },
  {
   "cell_type": "markdown",
   "metadata": {},
   "source": [
    "# Problema 3\n",
    "\n",
    "Escriba una consulta que compute la cantidad de registros por letra de la columna 2 y clave de la columna 3; esto es, por ejemplo, la cantidad de registros en tienen la letra `a` en la columna 2 y la clave `aaa` en la columna 3 es:\n",
    "\n",
    "     a    aaa    5"
   ]
  },
  {
   "cell_type": "code",
   "execution_count": null,
   "metadata": {},
   "outputs": [],
   "source": [
    "%%hive\n-- >>> Write your answer here <<<"
   ]
  },
  {
   "cell_type": "markdown",
   "metadata": {},
   "source": [
    "---"
   ]
  },
  {
   "cell_type": "code",
   "execution_count": null,
   "metadata": {},
   "outputs": [],
   "source": [
    "!rm data.* pig_*"
   ]
  }
 ],
 "metadata": {
  "kernelspec": {
   "display_name": "Python 3",
   "language": "python",
   "name": "python3"
  },
  "language_info": {
   "codemirror_mode": {
    "name": "ipython",
    "version": 3
   },
   "file_extension": ".py",
   "mimetype": "text/x-python",
   "name": "python",
   "nbconvert_exporter": "python",
   "pygments_lexer": "ipython3",
   "version": "3.6.5"
  },
  "toc": {
   "base_numbering": 1,
   "nav_menu": {},
   "number_sections": false,
   "sideBar": true,
   "skip_h1_title": true,
   "title_cell": "Table of Contents",
   "title_sidebar": "Contents",
   "toc_cell": false,
   "toc_position": {},
   "toc_section_display": true,
   "toc_window_display": true
  },
  "toc-autonumbering": false
 },
 "nbformat": 4,
 "nbformat_minor": 2
}
