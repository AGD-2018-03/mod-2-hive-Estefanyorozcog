{
 "cells": [
  {
   "cell_type": "markdown",
   "metadata": {},
   "source": [
    "**Recuerde no agregar o quitar celdas en este notebook, ni modificar su tipo. Si lo hace, el sistema automaticamente lo calificará con cero punto cero (0.0)**"
   ]
  },
  {
   "cell_type": "markdown",
   "metadata": {},
   "source": [
    "Para resolver los problemas presentados, use el siguiente conjunto de datos. Use [gradetool](gradetool.md) para verificar las respuestas del notebook."
   ]
  },
  {
   "cell_type": "code",
   "execution_count": null,
   "metadata": {},
   "outputs": [],
   "source": [
    "%load_ext bigdata\n%hive_init"
   ]
  },
  {
   "cell_type": "code",
   "execution_count": null,
   "metadata": {},
   "outputs": [],
   "source": [
    "%%writefile tbl0.csv\n1,D,4,2016-06-25,a:e:c:d,bb#10:dd#20:cc#40\n2,C,4,2015-05-14,a:c,dd#40:bb#20:cc#10\n3,D,6,2014-12-26,b:d,aa#10:bb#40\n4,D,5,2016-06-25,a:c:e:b:d,bb#40:dd#20:aa#10:cc#30\n5,C,7,2016-05-23,d:e:c,cc#10:aa#20\n6,A,2,2018-06-14,a:d,aa#20\n7,B,3,2014-12-22,a:e:d,cc#20\n8,C,6,2015-08-20,d:a:c:e,cc#10:aa#20\n9,B,3,2017-12-08,b:a:c:e,cc#40:dd#10:aa#30:bb#20\n10,B,7,2015-07-28,c:d:e:a:b,aa#10:dd#40:cc#30"
   ]
  },
  {
   "cell_type": "code",
   "execution_count": null,
   "metadata": {},
   "outputs": [],
   "source": [
    "%%hive\nDROP TABLE IF EXISTS tbl0;\nCREATE TABLE tbl0 (\n    c1 INT,\n    c2 STRING,\n    c3 INT,\n    c4 DATE,\n    c5 ARRAY<CHAR(1)>, \n    c6 MAP<STRING, INT>\n)\nROW FORMAT DELIMITED \nFIELDS TERMINATED BY ','\nCOLLECTION ITEMS TERMINATED BY ':'\nMAP KEYS TERMINATED BY '#'\nLINES TERMINATED BY '\\n';\n\nLOAD DATA LOCAL INPATH 'tbl0.csv' INTO TABLE tbl0;\n\nSELECT * FROM tbl0;"
   ]
  },
  {
   "cell_type": "code",
   "execution_count": null,
   "metadata": {},
   "outputs": [],
   "source": [
    "%%writefile tbl1.csv\n1,7,bb,A#0:B#4:C#1:D#3:E#5\n2,13,Cc,A#4:B#1:C#0:D#5:E#2\n3,11,dD,A#5:B#4:C#3:D#1:E#0\n4,3,BB,A#2:B#4:C#3:D#5:E#1\n5,14,cc,A#4:B#0:C#2:D#5:E#3\n6,8,cC,A#4:B#5:C#1:D#2:E#3\n7,2,DD,A#0:B#5:C#2:D#4:E#3\n8,6,dd,A#4:B#2:C#5:D#3:E#0\n9,9,aa,A#1:B#4:C#2:D#5:E#3\n10,4,Bb,A#2:B#3:C#4:D#1:E#0"
   ]
  },
  {
   "cell_type": "code",
   "execution_count": null,
   "metadata": {},
   "outputs": [],
   "source": [
    "%%hive\nDROP TABLE IF EXISTS tbl1;\nCREATE TABLE tbl1 (\n    c1 INT,\n    c2 INT,\n    c3 STRING,\n    c4 MAP<STRING, INT>\n)\nROW FORMAT DELIMITED \nFIELDS TERMINATED BY ','\nCOLLECTION ITEMS TERMINATED BY ':'\nMAP KEYS TERMINATED BY '#'\nLINES TERMINATED BY '\\n';\n\nLOAD DATA LOCAL INPATH 'tbl1.csv' INTO TABLE tbl1;\n\nSELECT * FROM tbl1;"
   ]
  },
  {
   "cell_type": "markdown",
   "metadata": {},
   "source": [
    "# Problema 1\n",
    "\n",
    "Escriba una consulta que retorne los valores únicos de la columna `t0.c5` (ordenados). "
   ]
  },
  {
   "cell_type": "code",
   "execution_count": null,
   "metadata": {},
   "outputs": [],
   "source": [
    "%%hive\n-- >>> Write your answer here <<<"
   ]
  },
  {
   "cell_type": "markdown",
   "metadata": {},
   "source": [
    "# Problema 2\n",
    "\n",
    "Realice una consulta que compute la cantidad de veces que aparece cada valor de la columna `t0.c5`  por año."
   ]
  },
  {
   "cell_type": "code",
   "execution_count": null,
   "metadata": {},
   "outputs": [],
   "source": [
    "%%hive\n-- >>> Write your answer here <<<"
   ]
  },
  {
   "cell_type": "markdown",
   "metadata": {},
   "source": [
    "# Problema 3\n",
    "\n",
    "Escriba una consulta que retorne los elementos de la columna t0.c5 en mayúsculas, tal como se muestra a continuación.\n",
    "\n",
    "Original:\n",
    "\n",
    "    [\"a\",\"e\",\"c\",\"d\"]\n",
    "    [\"a\",\"c\"]\n",
    "    [\"b\",\"d\"]\n",
    "    [\"a\",\"c\",\"e\",\"b\",\"d\"]\n",
    "    [\"d\",\"e\",\"c\"]\n",
    "    [\"a\",\"d\"]\n",
    "    [\"a\",\"e\",\"d\"]\n",
    "    [\"d\",\"a\",\"c\",\"e\"]\n",
    "    [\"b\",\"a\",\"c\",\"e\"]\n",
    "    [\"c\",\"d\",\"e\",\"a\",\"b\"]\n",
    "\n",
    "Transformada:\n",
    "\n",
    "    [\"A\",\"E\",\"C\",\"D\"]\n",
    "    [\"A\",\"C\"]\n",
    "    [\"B\",\"D\"]\n",
    "    [\"A\",\"C\",\"E\",\"B\",\"D\"]\n",
    "    [\"D\",\"E\",\"C\"]\n",
    "    [\"A\",\"D\"]\n",
    "    [\"A\",\"E\",\"D\"]\n",
    "    [\"D\",\"A\",\"C\",\"E\"]\n",
    "    [\"B\",\"A\",\"C\",\"E\"]\n",
    "    [\"C\",\"D\",\"E\",\"A\",\"B\"]"
   ]
  },
  {
   "cell_type": "code",
   "execution_count": null,
   "metadata": {},
   "outputs": [],
   "source": [
    "%%hive\n-- >>> Write your answer here <<<"
   ]
  },
  {
   "cell_type": "markdown",
   "metadata": {},
   "source": [
    "# Problema 4\n",
    "\n",
    "Escriba una consulta que retorne para cada valor único de la columna `t0.c2`, los valores correspondientes de la columna `\n",
    "t0.c1`. "
   ]
  },
  {
   "cell_type": "code",
   "execution_count": null,
   "metadata": {},
   "outputs": [],
   "source": [
    "%%hive\n-- >>> Write your answer here <<<"
   ]
  },
  {
   "cell_type": "markdown",
   "metadata": {},
   "source": [
    "# Problema 5\n",
    "\n",
    "Escriba una consulta que para cada valor único de la columna `t0.c2,` calcule la suma de todos los valores asociados a las claves en la columna `t0.c6`."
   ]
  },
  {
   "cell_type": "code",
   "execution_count": null,
   "metadata": {},
   "outputs": [],
   "source": [
    "%%hive\n-- __begin__\nSELECT \n    c2,\n    sum(value)\nFROM \n    tbl0\nLATERAL VIEW \n    explode(c6) tbl0\nGROUP BY\n    c2;\n-- __end__"
   ]
  },
  {
   "cell_type": "markdown",
   "metadata": {},
   "source": [
    "# Problema 6\n",
    "\n",
    "Escriba una consulta que retorne la columna `tbl0.c1` y el valor correspondiente de la columna `tbl1.c4` para la columna `tbl0.c2`."
   ]
  },
  {
   "cell_type": "code",
   "execution_count": null,
   "metadata": {},
   "outputs": [],
   "source": [
    "%%hive\n-- >>> Write your answer here <<<"
   ]
  },
  {
   "cell_type": "markdown",
   "metadata": {},
   "source": [
    "---"
   ]
  },
  {
   "cell_type": "code",
   "execution_count": null,
   "metadata": {},
   "outputs": [],
   "source": [
    "!rm tbl* "
   ]
  }
 ],
 "metadata": {
  "kernelspec": {
   "display_name": "Python 3",
   "language": "python",
   "name": "python3"
  },
  "language_info": {
   "codemirror_mode": {
    "name": "ipython",
    "version": 3
   },
   "file_extension": ".py",
   "mimetype": "text/x-python",
   "name": "python",
   "nbconvert_exporter": "python",
   "pygments_lexer": "ipython3",
   "version": "3.6.5"
  },
  "toc": {
   "base_numbering": 1,
   "nav_menu": {},
   "number_sections": false,
   "sideBar": true,
   "skip_h1_title": true,
   "title_cell": "Table of Contents",
   "title_sidebar": "Contents",
   "toc_cell": false,
   "toc_position": {},
   "toc_section_display": true,
   "toc_window_display": true
  },
  "toc-autonumbering": false
 },
 "nbformat": 4,
 "nbformat_minor": 2
}
